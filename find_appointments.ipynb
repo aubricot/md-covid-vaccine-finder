{
  "nbformat": 4,
  "nbformat_minor": 0,
  "metadata": {
    "colab": {
      "name": "find_appointments.ipynb",
      "provenance": [],
      "collapsed_sections": [],
      "authorship_tag": "ABX9TyNDr4puYsP4Gr5hPASmOU4i",
      "include_colab_link": true
    },
    "kernelspec": {
      "name": "python3",
      "display_name": "Python 3"
    }
  },
  "cells": [
    {
      "cell_type": "markdown",
      "metadata": {
        "id": "view-in-github",
        "colab_type": "text"
      },
      "source": [
        "<a href=\"https://colab.research.google.com/github/aubricot/md-covid-vaccine-finder/blob/main/find_appointments.ipynb\" target=\"_parent\"><img src=\"https://colab.research.google.com/assets/colab-badge.svg\" alt=\"Open In Colab\"/></a>"
      ]
    },
    {
      "cell_type": "markdown",
      "metadata": {
        "id": "7CxXy6JCfcfh"
      },
      "source": [
        "### Find Maryland vaccine appointments at Giant, Safeway, and Mass vaccination sites\n",
        "*Last modified 14 March 2021*  \n",
        "\n",
        "Instructions:     \n",
        "1) Add jeffaukey@gmail.com to your Gmail contacts.  \n",
        "2) Edit **runtime** and **to_gmail** in form fields to right:   \n",
        "* **runtime**: number of minutes code should run for (currently set to 180 minutes / 3 hours)\n",
        "* **to_gmail**: gmail address where you will receive a notification when an appointment becomes available (must be @gmail, will not work as written for other email servers)\n",
        "\n",
        "Coming soon: Support for CVS appointments"
      ]
    },
    {
      "cell_type": "code",
      "metadata": {
        "colab": {
          "base_uri": "https://localhost:8080/",
          "height": 451
        },
        "id": "EwANr7UDZQzi",
        "outputId": "1b203a85-2bb1-4411-df84-ee9f645b2a9d"
      },
      "source": [
        "from bs4 import BeautifulSoup\n",
        "import smtplib\n",
        "from email.mime.multipart import MIMEMultipart\n",
        "from email.mime.text import MIMEText\n",
        "from email.mime.base import MIMEBase\n",
        "from email import encoders\n",
        "from urllib.request import urlopen\n",
        "import datetime\n",
        "import pytz\n",
        "import time\n",
        "import json\n",
        "\n",
        "# TO DO: Choose how many hours to run loop for using form field to right\n",
        "runtime = 3 #@param {type:\"slider\", min:0.5, max:8, step:0.5}\n",
        "endtime = time.time() + 3600 * runtime\n",
        "\n",
        "# TO DO: enter gmail address to receive Appt. Alert at in form field to right\n",
        "to_gmail = \"YourEmailAddress@gmail.com\" #@param {type:\"string\"}\n",
        "\n",
        "# Reload appt portal for runtime mins for specified runtime\n",
        "while time.time() < endtime:\n",
        "  try:\n",
        "      ## 1) Check DMV Vaccine website for Safeway and Mass Vax Sites\n",
        "      site = \"https://www.dmvvaccine.com/\"\n",
        "      # Parse html info from dmvvaccine\n",
        "      page = urlopen(site)\n",
        "      html_bytes = page.read()\n",
        "      html = html_bytes.decode(\"utf-8\")\n",
        "      #print(\"html:\", html)\n",
        "      title_index = html.find(\"<h3>Maryland\")\n",
        "      #print(\"title index:\", title_index)\n",
        "      start_index = title_index + len(\"<h3>\")\n",
        "      #print(\"start index:\", start_index)\n",
        "      end_index = html.find(\"<h3>Virginia\")\n",
        "      #print(\"end index:\", end_index)\n",
        "      content = html[start_index:end_index]\n",
        "\n",
        "      # Inspect content for MD vaccine distrubtion\n",
        "      #print(\"Relevant content: \\n\", content)\n",
        "      soup = BeautifulSoup(content, 'html.parser')\n",
        "      #print(\"Pretty soup style: \\n\", soup.prettify())\n",
        "    \n",
        "      # Get current time\n",
        "      gmt = datetime.datetime.now()\n",
        "      est = gmt.astimezone(pytz.timezone('US/Eastern'))\n",
        "\n",
        "      # Check Safeway appointment availability\n",
        "      safeway = soup.find_all('div')[6]\n",
        "      if \"Fully Booked\" in str(safeway):\n",
        "        print(\"Boo, no appointments available at MD Safeway as of \", est)\n",
        "      else: \n",
        "        print(\"~~YAY! Appointment available at MD Safeway as of \", est)\n",
        "        sitename = \"Safeway\"\n",
        "        url = \"https://www.mhealthappointments.com/covidappt\"\n",
        "    \n",
        "      # Check Mass Vaccination Site appointment availability\n",
        "      massvaxsts = [soup.find_all('div')[x] for x in [9,12,15]]\n",
        "      for massvaxst in massvaxsts:\n",
        "        if 'Fully Booked' in str(massvaxst):\n",
        "          print(\"Boo, no appointments available at MD Mass Vaccination Sites as of \", est)\n",
        "        else:\n",
        "          print(\"~~YAY! Appointment available at MD Mass Vaccination Sites as of \", est)\n",
        "          sitename = \"MD Mass Vaccination Sites\"\n",
        "          url = \"https://www.adventisthealthcare.com/coronavirus-covid-19/vaccine/\"\n",
        "\n",
        "      ## 2) Try Giant vaccine appointment website\n",
        "      try:\n",
        "        site = \"https://covidinfo.reportsonline.com/covidinfo/GiantFood.html\"\n",
        "        page = urlopen(site)\n",
        "        html_bytes = page.read()\n",
        "        html = html_bytes.decode(\"utf-8\")\n",
        "        #print(\"html:\", html)\n",
        "        title_index = html.find(\"<h2>\")\n",
        "        #print(\"title index:\", title_index)\n",
        "        start_index = title_index + len(\"<h2>\")\n",
        "        #print(\"start index:\", start_index)\n",
        "        end_index = html.find(\"</h2>\")\n",
        "        #print(\"end index:\", end_index)\n",
        "        content = html[start_index:end_index]\n",
        "        #print(\"title:\", content)\n",
        "        gmt = datetime.datetime.now()\n",
        "        est = gmt.astimezone(pytz.timezone('US/Eastern'))\n",
        "\n",
        "        # Check Giant appointment availability\n",
        "        if \"no COVID-19 vaccine appointments\" in content:\n",
        "          print(\"Boo, no appointments available at MD Giant as of \", est)\n",
        "        else: \n",
        "          print(\"~~YAY! Appointment available at MD Giant as of \", est)\n",
        "          sitename = \"Giant\"\n",
        "          url = \"https://covidinfo.reportsonline.com/covidinfo/GiantFood.html\"\n",
        "      except:\n",
        "        print(\"Error accessing Giant vaccine website\")\n",
        "\n",
        "      # If appointment is available, send email notification to to_gmail\n",
        "      try:\n",
        "          if sitename:\n",
        "            server = smtplib.SMTP('smtp.gmail.com', 587)\n",
        "            server.ehlo()\n",
        "            server.starttls()\n",
        "            server.ehlo()\n",
        "            from_gmail = \"jeffaukey@gmail.com\" \n",
        "            from_pass = \"PinkFlower$$1976\" \n",
        "            server.login(from_gmail, from_pass)\n",
        "            msg = \"Subject: Covid-19 vaccine appointment available at {}!\\n\\nClick here to register: {}\\n\\nYours Truly, \\n\\nJeff\".format(sitename, url)\n",
        "            server.sendmail(from_gmail, to_gmail, msg)\n",
        "            server.quit()\n",
        "            # Reset sitename and url variables\n",
        "            sitename = None\n",
        "            url = None\n",
        "\n",
        "      except:\n",
        "          pass\n",
        "      # Take a 3-sec nap between refreshing vaccine appointment website to limit timeouts\n",
        "      time.sleep(3)\n",
        "\n",
        "  # Take a 10-sec nap when get booted\n",
        "  except: \n",
        "      print(\"Error accessing DMV Vaccine website, taking 10 second nap before re-trying\")\n",
        "      time.sleep(5)"
      ],
      "execution_count": 2,
      "outputs": [
        {
          "output_type": "stream",
          "text": [
            "Boo, no appointments available at MD Safeway as of  2021-03-14 22:34:36.592348-04:00\n",
            "Boo, no appointments available at MD Mass Vaccination Sites as of  2021-03-14 22:34:36.592348-04:00\n",
            "Boo, no appointments available at MD Mass Vaccination Sites as of  2021-03-14 22:34:36.592348-04:00\n",
            "Boo, no appointments available at MD Mass Vaccination Sites as of  2021-03-14 22:34:36.592348-04:00\n",
            "Boo, no appointments available at MD Giant as of  2021-03-14 22:34:36.727474-04:00\n",
            "Error accessing DMV Vaccine website, taking 10 second nap before re-trying\n"
          ],
          "name": "stdout"
        },
        {
          "output_type": "error",
          "ename": "KeyboardInterrupt",
          "evalue": "ignored",
          "traceback": [
            "\u001b[0;31m---------------------------------------------------------------------------\u001b[0m",
            "\u001b[0;31mKeyboardInterrupt\u001b[0m                         Traceback (most recent call last)",
            "\u001b[0;32m<ipython-input-2-11859eefb156>\u001b[0m in \u001b[0;36m<module>\u001b[0;34m()\u001b[0m\n\u001b[1;32m    113\u001b[0m       \u001b[0;31m# Take a 3-sec nap between refreshing vaccine appointment website to limit timeouts\u001b[0m\u001b[0;34m\u001b[0m\u001b[0;34m\u001b[0m\u001b[0;34m\u001b[0m\u001b[0m\n\u001b[0;32m--> 114\u001b[0;31m       \u001b[0mtime\u001b[0m\u001b[0;34m.\u001b[0m\u001b[0msleep\u001b[0m\u001b[0;34m(\u001b[0m\u001b[0;36m3\u001b[0m\u001b[0;34m)\u001b[0m\u001b[0;34m\u001b[0m\u001b[0;34m\u001b[0m\u001b[0m\n\u001b[0m\u001b[1;32m    115\u001b[0m \u001b[0;34m\u001b[0m\u001b[0m\n",
            "\u001b[0;31mKeyboardInterrupt\u001b[0m: ",
            "\nDuring handling of the above exception, another exception occurred:\n",
            "\u001b[0;31mKeyboardInterrupt\u001b[0m                         Traceback (most recent call last)",
            "\u001b[0;32m<ipython-input-2-11859eefb156>\u001b[0m in \u001b[0;36m<module>\u001b[0;34m()\u001b[0m\n\u001b[1;32m    117\u001b[0m   \u001b[0;32mexcept\u001b[0m\u001b[0;34m:\u001b[0m\u001b[0;34m\u001b[0m\u001b[0;34m\u001b[0m\u001b[0m\n\u001b[1;32m    118\u001b[0m       \u001b[0mprint\u001b[0m\u001b[0;34m(\u001b[0m\u001b[0;34m\"Error accessing DMV Vaccine website, taking 10 second nap before re-trying\"\u001b[0m\u001b[0;34m)\u001b[0m\u001b[0;34m\u001b[0m\u001b[0;34m\u001b[0m\u001b[0m\n\u001b[0;32m--> 119\u001b[0;31m       \u001b[0mtime\u001b[0m\u001b[0;34m.\u001b[0m\u001b[0msleep\u001b[0m\u001b[0;34m(\u001b[0m\u001b[0;36m5\u001b[0m\u001b[0;34m)\u001b[0m\u001b[0;34m\u001b[0m\u001b[0;34m\u001b[0m\u001b[0m\n\u001b[0m",
            "\u001b[0;31mKeyboardInterrupt\u001b[0m: "
          ]
        }
      ]
    }
  ]
}